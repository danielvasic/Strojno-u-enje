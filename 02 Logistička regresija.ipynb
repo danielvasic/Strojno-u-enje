{
 "cells": [
  {
   "cell_type": "markdown",
   "metadata": {},
   "source": [
    "# Uvod u logističku regresiju\n",
    "\n",
    "S porastom dostupnih podataka, računalne snage i broja algoritamskih poboljšanja, raste i važnost podatkovne znanosti i strojnog učenja. Klasifikacija je jedno od najvažnijih područja strojnog učenja, a logistička regresija jedna je od njenih osnovnih metoda. Do kraja ovog vodiča naučit ćete:\n",
    "\n",
    "- Što je logistička regresija\n",
    "- Za što se koristi logistička regresija\n",
    "- Kako funkcionira logistička regresija\n",
    "- Kako implementirati logističku regresiju u Pythonu, korak po korak"
   ]
  },
  {
   "cell_type": "markdown",
   "metadata": {},
   "source": [
    "## Klasifikacija\n",
    "\n",
    "Klasifikacija je važno područje nadziranog strojnog učenja. Velik broj važnih problema strojnog učenja spada u ovo područje. Postoji mnogo metoda klasifikacije, a logistička regresija je jedna od njih.\n",
    "Što je klasifikacija?\n",
    "\n",
    "Klasifikacija je područje nadziranog strojnog učenja koje pokušava predvidjeti kojoj klasi ili kategoriji neka entiteta pripada, na temelju njenih značajki.\n",
    "Kada vam je potrebna klasifikacija?\n",
    "\n",
    "Klasifikaciju možete primijeniti u mnogim poljima znanosti i tehnologije, kao što su filtriranje legitimnih i spam e-mailova, medicinske aplikacije, biološka klasifikacija, ocjenjivanje kredita i više.\n",
    "Pregled logističke regresije\n",
    "\n",
    "Logistička regresija je temeljna tehnika klasifikacije. Iako je u osnovi metoda za binarnu klasifikaciju, može se primijeniti i na probleme višeklasne klasifikacije.\n",
    "Matematički preduvjeti\n",
    "\n",
    "Za razumijevanje logističke regresije potrebno je poznavanje sigmoidne funkcije i funkcije prirodnog logaritma.\n",
    "\n",
    "- Sigmoidna funkcija: $ \\sigma(x) = \\frac{1}{1 + e^{-x}} $\n",
    "- Prirodni logaritam: $ \\ln(x) $ za $x$ između 0 i 1\n",
    "\n",
    "![Sigmoidna funkcija](slike/sigmoid_i_ln.png)\n",
    "\n",
    "Sigmoidna funkcija koristi se za mapiranje predviđenih vrijednosti na vjerojatnosti, a prirodni logaritam koristi se u izračunavanju log-likelihood funkcije, ključnog dijela u određivanju parametara modela logističke regresije."
   ]
  },
  {
   "cell_type": "markdown",
   "metadata": {},
   "source": [
    "## Log-likelihood funkcija (LLF) u logističkoj regresiji\n",
    "\n",
    "U binarnoj klasifikaciji, cilj logističke regresije je identificirati skup težinskih koeficijenata $b_0, b_1, \\ldots, b_r$ koji maksimiziraju vjerojatnost da se promatraju stvarne izlazne kategorije na osnovu skupa ulaznih značajki. To se postiže maksimizacijom log-likelihood funkcije (LLF), koja je logaritam funkcije vjerojatnosti za sve opažene točke.\n",
    "\n",
    "Za pojedinačno opažanje $i$, LLF se može izraziti kao:\n",
    "$$ LLF = \\sum_{i=1}^{n} \\left( y_i \\log(p(x_i)) + (1 - y_i) \\log(1 - p(x_i)) \\right) $$\n",
    "\n",
    "gdje:\n",
    "- $y_i$ predstavlja stvarni odziv za opažanje $i$ (0 ili 1),\n",
    "- $p(x_i)$ je predviđena vjerojatnost da $y_i = 1$ za dano ulazno opažanje $x_i$,\n",
    "- $n$ je ukupan broj opažanja.\n",
    "\n",
    "Ova formula za LLF direktno proizlazi iz pretpostavke da su opažanja neovisna i distribuirana prema Bernoullijevoj distribuciji.\n",
    "\n",
    "Bernoullijeva distribucija je jednostavna distribucija vjerojatnosti koja ima samo dvije moguće ishode, često nazivane \"uspjeh\" i \"neuspjeh\" (ili 1 i 0, odnosno \"da\" i \"ne\"). U kontekstu logističke regresije, kada govorimo da su opažanja distribuirana \"po Bernoullijevoj distribuciji\", mislimo da svako opažanje $y_i$ može imati samo jednu od dvije vrijednosti (1 ili 0) i da je vjerojatnost za svaku od tih vrijednosti određena pomoću predviđene vjerojatnosti $p(x_i)$.\n",
    "\n",
    "Za opažanje koje prati Bernoullijevu distribuciju, vjerojatnost da je opažanje uspjeh (npr. $y_i = 1$) je $p$, dok je vjerojatnost da je opažanje neuspjeh (npr. $y_i = 0$) $1 - p$. Logistička regresija koristi ovu pretpostavku kako bi modelirala vjerojatnost uspjeha za binarnu klasifikaciju."
   ]
  },
  {
   "cell_type": "markdown",
   "metadata": {},
   "source": [
    "### Veza između LLF i entropije\n",
    "\n",
    "Entropija u teoriji informacija mjeri količinu nesigurnosti ili informacijskog sadržaja u distribuciji vjerojatnosti. U kontekstu logističke regresije, LLF je povezan s križnom entropijom, koja mjeri koliko su dvije distribucije vjerojatnosti slične jedna drugoj.\n",
    "\n",
    "Križna entropija između stvarne distribucije $y$ i predviđene distribucije $p(x)$ dana je sličnom formulom kao LLF:\n",
    "$$ H(y, p) = -\\sum_{i=1}^{n} \\left( y_i \\log(p(x_i)) + (1 - y_i) \\log(1 - p(x_i)) \\right) $$\n",
    "\n",
    "Minimizacija križne entropije (ekvivalent maksimizaciji LLF) rezultira time da predviđena distribucija $p(x)$ postaje što sličnija stvarnoj distribuciji $y$, omogućavajući modelu da točnije predviđa stvarne ishode."
   ]
  },
  {
   "cell_type": "markdown",
   "metadata": {},
   "source": [
    "## Logistička regresija s jednom varijablom\n",
    "\n",
    "Logistička regresija s jednom varijablom, poznata i kao binarna logistička regresija, koristi se kada imamo jednu ulaznu značajku \\(x\\) za predviđanje binarne izlazne varijable \\(y\\), koja može poprimiti vrijednosti 0 ili 1. Model predviđa vjerojatnost \\(P(y=1 | x)\\) da dano opažanje pripada klasi 1, na temelju ulazne značajke \\(x\\).\n",
    "\n",
    "Matematički model se može izraziti kao:\n",
    "$$ P(y=1 | x) = \\sigma(b_0 + b_1x) $$\n",
    "\n",
    "gdje je:\n",
    "- $(\\sigma(z))$ sigmoidna funkcija definirana kao $(\\sigma(z) = \\frac{1}{1 + e^{-z}})$,\n",
    "- $(b_0)$ je odsječak na y-osi, a\n",
    "- $(b_1)$ je nagib pravca, odnosno težinski koeficijent povezan s ulaznom značajkom $(x)$."
   ]
  },
  {
   "cell_type": "markdown",
   "metadata": {},
   "source": [
    "\n",
    "## Logistička regresija s više varijabli\n",
    "\n",
    "U logističkoj regresiji s više varijabli, cilj je predvidjeti istu binarnu izlaznu varijablu \\(y\\) koristeći više ulaznih značajki \\(x_1, x_2, \\ldots, x_n\\). Model postaje:\n",
    "\n",
    "$$ P(y=1 | \\mathbf{x}) = \\sigma(b_0 + b_1x_1 + b_2x_2 + \\cdots + b_nx_n) $$\n",
    "\n",
    "gdje $(\\mathbf{x})$ predstavlja vektor ulaznih značajki, a $(b_0, b_1, \\ldots, b_n)$ su težinski koeficijenti modela, uključujući odsječak $(b_0)$.\n",
    "\n",
    "Ovaj model može se također zapisati koristeći notaciju matričnog množenja za pojednostavnjenje:\n",
    "\n",
    "$$ P(y=1 | \\mathbf{x}) = \\sigma(\\mathbf{b}^T\\mathbf{x}) $$\n",
    "\n",
    "gdje $(\\mathbf{b})$ predstavlja vektor koeficijenata (uključujući $(b_0)$), a $(\\mathbf{x})$ je prošireni vektor ulaznih značajki koji uključuje 1 kao prvi element za uklapanje $(b_0)$."
   ]
  },
  {
   "cell_type": "markdown",
   "metadata": {},
   "source": [
    "\n",
    "## Regularizacija\n",
    "\n",
    "Regularizacija dodaje kazneni termin funkciji gubitka modela kako bi se kontrolirala složenost modela smanjujući veličinu koeficijenata \\(b_i\\).\n",
    "\n",
    "- **L1 regularizacija (Lasso)** dodaje apsolutnu vrijednost koeficijenata kao kazneni termin funkciji gubitka:\n",
    "  $$ \\text{Kazna}_{L1} = \\lambda \\sum_{i=1}^{n} |b_i| $$\n",
    "  Ovo može dovesti do nekih koeficijenata koji postaju točno nula, čime se smanjuje složenost modela.\n",
    "\n",
    "- **L2 regularizacija (Ridge)** dodaje kvadrate koeficijenata:\n",
    "  $$ \\text{Kazna}_{L2} = \\lambda \\sum_{i=1}^{n} b_i^2 $$\n",
    "  Ovo generalno smanjuje veličinu koeficijenata ali rijetko ih postavlja na točno nula.\n",
    "\n",
    "- **Elastična mreža** kombinira L1 i L2 regularizacije:\n",
    "  $$ \\text{Kazna}_{\\text{elastična mreža}} = r\\lambda \\sum_{i=1}^{n} |b_i| + \\frac{1-r}{2} \\lambda \\sum_{i=1}^{n} b_i^2 $$\n",
    "\n",
    "gdje je $λ$ parametar koji kontrolira jačinu regularizacije, a $r$ je parametar koji balansira između $L1$ i $L2$ regularizacije. Kada je $r=1$, elastična mreža se svodi na $L1$ regularizaciju, dok se za $r=0$ svodi na $L2$ regularizaciju. Ovaj pristup omogućava fleksibilnost u odabiru između svojstava $L1$ regularizacije (selekcija značajki kroz postavljanje nekih koeficijenata na nulu) i $L2$ regularizacije (smanjenje veličine svih koeficijenata, promičući model s manje varijance).\n"
   ]
  },
  {
   "cell_type": "markdown",
   "metadata": {},
   "source": [
    "## Vrednovanje modela\n",
    "\n",
    "Konfuzijska matrica je ključan alat za ocjenjivanje performansi modela klasifikacije, posebno u slučaju binarne klasifikacije. Pruža detaljan uvid u to kako se model ponaša u smislu točnosti predikcija za svaku klasu. Osnovna struktura konfuzijske matrice za binarnu klasifikaciju uključuje četiri kvadranta koji predstavljaju:\n",
    "\n",
    "- $True Negatives (TN)$: Broj točno klasificiranih negativnih primjera (stvarno je 0, predviđeno kao 0)\n",
    "- $False Negatives (FN)$: Broj negativnih primjera pogrešno klasificiranih kao pozitivni (stvarno je 1, predviđeno kao 0)\n",
    "- $False Positives (FP)$: Broj pozitivnih primjera pogrešno klasificiranih kao negativni (stvarno je 0, predviđeno kao 1)\n",
    "- $True Positives (TP)$: Broj točno klasificiranih pozitivnih primjera (stvarno je 1, predviđeno kao 1)\n",
    "\n",
    "## Precision (Preciznost)\n",
    "\n",
    "Precision mjeri udio točno pozitivnih predikcija u ukupnom broju pozitivnih predikcija koje je model napravio. Preciznost je dakle mjera kvalitete pozitivnih predikcija modela. Matematički se izražava kao:\n",
    "$$\n",
    "\\text{Precision} = \\frac{TP}{TP + FP}\n",
    "$$\n",
    "gdje je \\(TP\\) broj točno pozitivnih predikcija, a \\(FP\\) broj lažno pozitivnih predikcija.\n",
    "\n",
    "## Recall (Odziv, ili True Positive Rate)\n",
    "\n",
    "Recall mjeri udio točno pozitivnih predikcija u odnosu na ukupan broj stvarnih pozitivnih primjera u podacima. Dakle, odziv mjeri sposobnost modela da identificira sve relevantne primjere. Matematički se izražava kao:\n",
    "$$\n",
    "\\text{Recall} = \\frac{TP}{TP + FN}\n",
    "$$\n",
    "gdje je \\(FN\\) broj lažno negativnih predikcija.\n",
    "\n",
    "## F1 Mjera\n",
    "\n",
    "F1 mjera je harmonijska sredina preciznosti i odziva. Ova mjera kombinira preciznost i odziv u jednu metriku koja daje opću ocjenu balansa između preciznosti i odziva. Visoka F1 mjera ukazuje na to da model ima i visoku preciznost i visok odziv. Matematički, F1 mjera se izražava kao:\n",
    "$$\n",
    "F1 = 2 \\cdot \\frac{\\text{Precision} \\cdot \\text{Recall}}{\\text{Precision} + \\text{Recall}}\n",
    "$$\n"
   ]
  },
  {
   "cell_type": "code",
   "execution_count": 3,
   "metadata": {},
   "outputs": [
    {
     "name": "stdout",
     "output_type": "stream",
     "text": [
      "Koeficijenti modela: [[0.51491375]]\n",
      "Presjek: [-1.04608067]\n",
      "Matrica konfuzije:\n",
      " [[3 1]\n",
      " [0 6]]\n",
      "Izvještaj klasifikacije:\n",
      "               precision    recall  f1-score   support\n",
      "\n",
      "           0       1.00      0.75      0.86         4\n",
      "           1       0.86      1.00      0.92         6\n",
      "\n",
      "    accuracy                           0.90        10\n",
      "   macro avg       0.93      0.88      0.89        10\n",
      "weighted avg       0.91      0.90      0.90        10\n",
      "\n"
     ]
    },
    {
     "data": {
      "image/png": "[encoded data removed]",
      "text/plain": [
       "<Figure size 640x480 with 1 Axes>"
      ]
     },
     "metadata": {},
     "output_type": "display_data"
    }
   ],
   "source": [
    "# Korak 1: Uvoz potrebnih paketa, funkcija i klasa\n",
    "import matplotlib.pyplot as plt\n",
    "import numpy as np\n",
    "from sklearn.linear_model import LogisticRegression\n",
    "from sklearn.metrics import classification_report, confusion_matrix\n",
    "\n",
    "# Korak 2: Priprema podataka\n",
    "x = np.arange(10).reshape(-1, 1)  # Ulazni podaci, 10 točaka od 0 do 9\n",
    "y = np.array([0, 0, 0, 0, 1, 1, 1, 1, 1, 1])  # Izlazni podaci, binarna klasifikacija\n",
    "\n",
    "# Korak 3: Kreiranje i treniranje modela\n",
    "model = LogisticRegression(solver='liblinear', random_state=0)\n",
    "model.fit(x, y)  # Treniranje modela s podacima\n",
    "\n",
    "# Korak 4: Evaluacija modela\n",
    "print(\"Koeficijenti modela:\", model.coef_)  # Ispisuje koeficijente modela\n",
    "print(\"Presjek:\", model.intercept_)  # Ispisuje presjek\n",
    "\n",
    "# Predikcija i evaluacija\n",
    "predictions = model.predict(x)  # Predikcije modela\n",
    "probability = model.predict_proba(x)  # Vjerojatnosti klasifikacija\n",
    "print(\"Matrica konfuzije:\\n\", confusion_matrix(y, predictions))  # Ispisuje matricu konfuzije\n",
    "print(\"Izvještaj klasifikacije:\\n\", classification_report(y, predictions))  # Ispisuje izvještaj klasifikacije\n",
    "\n",
    "# Vizualizacija rezultata\n",
    "plt.scatter(x, y, color='black', label='Stvarni podaci')  # Točke stvarnih podataka\n",
    "plt.plot(x, predictions, color='blue', linewidth=2, label='Predikcije modela')  # Linija predikcija\n",
    "plt.xlabel('x')\n",
    "plt.ylabel('y')\n",
    "plt.title('Logistička regresija')\n",
    "plt.legend()\n",
    "plt.show()"
   ]
  }
 ],
 "metadata": {
  "kernelspec": {
   "display_name": "Python 3",
   "language": "python",
   "name": "python3"
  },
  "language_info": {
   "codemirror_mode": {
    "name": "ipython",
    "version": 3
   },
   "file_extension": ".py",
   "mimetype": "text/x-python",
   "name": "python",
   "nbconvert_exporter": "python",
   "pygments_lexer": "ipython3",
   "version": "3.10.13"
  }
 },
 "nbformat": 4,
 "nbformat_minor": 2
}
