{
 "cells": [
  {
   "cell_type": "markdown",
   "metadata": {},
   "source": [
    "# Predprocesiranje kategoričkih podataka: Label Encoding i One-Hot Encoding\n",
    "\n",
    "## Uvod\n",
    "\n",
    "Kategorički podaci su česti u skupovima podataka i predstavljaju varijable koje imaju dvije ili više kategorija, ali koje nemaju intrinzički ordinalni odnos. Da bismo koristili ove podatke u većini algoritama strojnog učenja, moramo ih prvo pretvoriti u numerički format. Postoje različite tehnike za to, ali dvije od najpopularnijih su Label Encoding i One-Hot Encoding.\n",
    "Razlike između Label Encoding i One-Hot Encoding\n",
    "\n",
    "## Label Encoding\n",
    "\n",
    "Label Encoding dodjeljuje svakoj jedinstvenoj kategoriji u stupcu jedinstveni integer. Ova metoda je vrlo korisna kada kategoričke varijable imaju neki redoslijed ili hijerarhiju."
   ]
  },
  {
   "cell_type": "code",
   "execution_count": 2,
   "metadata": {},
   "outputs": [
    {
     "data": {
      "text/html": [
       "<div>\n",
       "<style scoped>\n",
       "    .dataframe tbody tr th:only-of-type {\n",
       "        vertical-align: middle;\n",
       "    }\n",
       "\n",
       "    .dataframe tbody tr th {\n",
       "        vertical-align: top;\n",
       "    }\n",
       "\n",
       "    .dataframe thead th {\n",
       "        text-align: right;\n",
       "    }\n",
       "</style>\n",
       "<table border=\"1\" class=\"dataframe\">\n",
       "  <thead>\n",
       "    <tr style=\"text-align: right;\">\n",
       "      <th></th>\n",
       "      <th>Grade</th>\n",
       "      <th>Grade_encoded</th>\n",
       "    </tr>\n",
       "  </thead>\n",
       "  <tbody>\n",
       "    <tr>\n",
       "      <th>0</th>\n",
       "      <td>Excellent</td>\n",
       "      <td>0</td>\n",
       "    </tr>\n",
       "    <tr>\n",
       "      <th>1</th>\n",
       "      <td>Good</td>\n",
       "      <td>1</td>\n",
       "    </tr>\n",
       "    <tr>\n",
       "      <th>2</th>\n",
       "      <td>Poor</td>\n",
       "      <td>2</td>\n",
       "    </tr>\n",
       "    <tr>\n",
       "      <th>3</th>\n",
       "      <td>Excellent</td>\n",
       "      <td>0</td>\n",
       "    </tr>\n",
       "    <tr>\n",
       "      <th>4</th>\n",
       "      <td>Good</td>\n",
       "      <td>1</td>\n",
       "    </tr>\n",
       "  </tbody>\n",
       "</table>\n",
       "</div>"
      ],
      "text/plain": [
       "       Grade  Grade_encoded\n",
       "0  Excellent              0\n",
       "1       Good              1\n",
       "2       Poor              2\n",
       "3  Excellent              0\n",
       "4       Good              1"
      ]
     },
     "execution_count": 2,
     "metadata": {},
     "output_type": "execute_result"
    }
   ],
   "source": [
    "from sklearn.preprocessing import LabelEncoder\n",
    "import pandas as pd\n",
    "\n",
    "# Primjer podataka\n",
    "data = pd.DataFrame({\n",
    "    'Grade': ['Excellent', 'Good', 'Poor', 'Excellent', 'Good']\n",
    "})\n",
    "\n",
    "# Inicijalizacija i transformacija\n",
    "label_encoder = LabelEncoder()\n",
    "data['Grade_encoded'] = label_encoder.fit_transform(data['Grade'])\n",
    "data"
   ]
  },
  {
   "cell_type": "markdown",
   "metadata": {},
   "source": [
    "## One-Hot Encoding\n",
    "\n",
    "One-Hot Encoding stvara novi stupac za svaku jedinstvenu kategoriju u originalnom stupcu. Svaka značajka tada postaje binarna."
   ]
  },
  {
   "cell_type": "code",
   "execution_count": 3,
   "metadata": {},
   "outputs": [
    {
     "name": "stderr",
     "output_type": "stream",
     "text": [
      "/Users/danielvasic/.pyenv/versions/3.10.13/lib/python3.10/site-packages/sklearn/preprocessing/_encoders.py:808: FutureWarning: `sparse` was renamed to `sparse_output` in version 1.2 and will be removed in 1.4. `sparse_output` is ignored unless you leave `sparse` to its default value.\n",
      "  warnings.warn(\n"
     ]
    },
    {
     "data": {
      "text/html": [
       "<div>\n",
       "<style scoped>\n",
       "    .dataframe tbody tr th:only-of-type {\n",
       "        vertical-align: middle;\n",
       "    }\n",
       "\n",
       "    .dataframe tbody tr th {\n",
       "        vertical-align: top;\n",
       "    }\n",
       "\n",
       "    .dataframe thead th {\n",
       "        text-align: right;\n",
       "    }\n",
       "</style>\n",
       "<table border=\"1\" class=\"dataframe\">\n",
       "  <thead>\n",
       "    <tr style=\"text-align: right;\">\n",
       "      <th></th>\n",
       "      <th>Grade</th>\n",
       "      <th>Grade_encoded</th>\n",
       "      <th>Grade_Excellent</th>\n",
       "      <th>Grade_Good</th>\n",
       "      <th>Grade_Poor</th>\n",
       "    </tr>\n",
       "  </thead>\n",
       "  <tbody>\n",
       "    <tr>\n",
       "      <th>0</th>\n",
       "      <td>Excellent</td>\n",
       "      <td>0</td>\n",
       "      <td>1.0</td>\n",
       "      <td>0.0</td>\n",
       "      <td>0.0</td>\n",
       "    </tr>\n",
       "    <tr>\n",
       "      <th>1</th>\n",
       "      <td>Good</td>\n",
       "      <td>1</td>\n",
       "      <td>0.0</td>\n",
       "      <td>1.0</td>\n",
       "      <td>0.0</td>\n",
       "    </tr>\n",
       "    <tr>\n",
       "      <th>2</th>\n",
       "      <td>Poor</td>\n",
       "      <td>2</td>\n",
       "      <td>0.0</td>\n",
       "      <td>0.0</td>\n",
       "      <td>1.0</td>\n",
       "    </tr>\n",
       "    <tr>\n",
       "      <th>3</th>\n",
       "      <td>Excellent</td>\n",
       "      <td>0</td>\n",
       "      <td>1.0</td>\n",
       "      <td>0.0</td>\n",
       "      <td>0.0</td>\n",
       "    </tr>\n",
       "    <tr>\n",
       "      <th>4</th>\n",
       "      <td>Good</td>\n",
       "      <td>1</td>\n",
       "      <td>0.0</td>\n",
       "      <td>1.0</td>\n",
       "      <td>0.0</td>\n",
       "    </tr>\n",
       "  </tbody>\n",
       "</table>\n",
       "</div>"
      ],
      "text/plain": [
       "       Grade  Grade_encoded  Grade_Excellent  Grade_Good  Grade_Poor\n",
       "0  Excellent              0              1.0         0.0         0.0\n",
       "1       Good              1              0.0         1.0         0.0\n",
       "2       Poor              2              0.0         0.0         1.0\n",
       "3  Excellent              0              1.0         0.0         0.0\n",
       "4       Good              1              0.0         1.0         0.0"
      ]
     },
     "execution_count": 3,
     "metadata": {},
     "output_type": "execute_result"
    }
   ],
   "source": [
    "from sklearn.preprocessing import OneHotEncoder\n",
    "\n",
    "# Inicijalizacija OneHotEncoder-a\n",
    "onehot_encoder = OneHotEncoder(sparse=False)\n",
    "encoded_data = onehot_encoder.fit_transform(data[['Grade']])\n",
    "encoded_df = pd.DataFrame(encoded_data, columns=onehot_encoder.get_feature_names_out())\n",
    "\n",
    "# Prikaz transformiranih podataka\n",
    "pd.concat([data, encoded_df], axis=1)"
   ]
  },
  {
   "cell_type": "markdown",
   "metadata": {},
   "source": [
    "## Binary Encoding\n",
    "\n",
    "Binary Encoding kombinira značajke Label i One-Hot Encodinga. Prvo pretvara kategoričke vrijednosti u numeričke pomoću Label Encodinga, a zatim pretvara te brojeve u binarni oblik, smanjujući time broj potrebnih stupaca u usporedbi s One-Hot Encodingom."
   ]
  },
  {
   "cell_type": "code",
   "execution_count": 5,
   "metadata": {},
   "outputs": [
    {
     "name": "stdout",
     "output_type": "stream",
     "text": [
      "Collecting category_encoders\n",
      "  Downloading category_encoders-2.6.3-py2.py3-none-any.whl.metadata (8.0 kB)\n",
      "Requirement already satisfied: numpy>=1.14.0 in /Users/danielvasic/.pyenv/versions/3.10.13/lib/python3.10/site-packages (from category_encoders) (1.24.1)\n",
      "Requirement already satisfied: scikit-learn>=0.20.0 in /Users/danielvasic/.pyenv/versions/3.10.13/lib/python3.10/site-packages (from category_encoders) (1.2.0)\n",
      "Requirement already satisfied: scipy>=1.0.0 in /Users/danielvasic/.pyenv/versions/3.10.13/lib/python3.10/site-packages (from category_encoders) (1.10.0)\n",
      "Requirement already satisfied: statsmodels>=0.9.0 in /Users/danielvasic/.pyenv/versions/3.10.13/lib/python3.10/site-packages (from category_encoders) (0.14.1)\n",
      "Requirement already satisfied: pandas>=1.0.5 in /Users/danielvasic/.pyenv/versions/3.10.13/lib/python3.10/site-packages (from category_encoders) (1.5.2)\n",
      "Requirement already satisfied: patsy>=0.5.1 in /Users/danielvasic/.pyenv/versions/3.10.13/lib/python3.10/site-packages (from category_encoders) (0.5.6)\n",
      "Requirement already satisfied: python-dateutil>=2.8.1 in /Users/danielvasic/.pyenv/versions/3.10.13/lib/python3.10/site-packages (from pandas>=1.0.5->category_encoders) (2.8.2)\n",
      "Requirement already satisfied: pytz>=2020.1 in /Users/danielvasic/.pyenv/versions/3.10.13/lib/python3.10/site-packages (from pandas>=1.0.5->category_encoders) (2022.7)\n",
      "Requirement already satisfied: six in /Users/danielvasic/.pyenv/versions/3.10.13/lib/python3.10/site-packages (from patsy>=0.5.1->category_encoders) (1.16.0)\n",
      "Requirement already satisfied: joblib>=1.1.1 in /Users/danielvasic/.pyenv/versions/3.10.13/lib/python3.10/site-packages (from scikit-learn>=0.20.0->category_encoders) (1.2.0)\n",
      "Requirement already satisfied: threadpoolctl>=2.0.0 in /Users/danielvasic/.pyenv/versions/3.10.13/lib/python3.10/site-packages (from scikit-learn>=0.20.0->category_encoders) (3.1.0)\n",
      "Requirement already satisfied: packaging>=21.3 in /Users/danielvasic/.pyenv/versions/3.10.13/lib/python3.10/site-packages (from statsmodels>=0.9.0->category_encoders) (23.0)\n",
      "Downloading category_encoders-2.6.3-py2.py3-none-any.whl (81 kB)\n",
      "\u001b[2K   \u001b[90m━━━━━━━━━━━━━━━━━━━━━━━━━━━━━━━━━━━━━━━━\u001b[0m \u001b[32m81.9/81.9 kB\u001b[0m \u001b[31m1.5 MB/s\u001b[0m eta \u001b[36m0:00:00\u001b[0ma \u001b[36m0:00:01\u001b[0m\n",
      "\u001b[?25h\u001b[33mDEPRECATION: omegaconf 2.0.6 has a non-standard dependency specifier PyYAML>=5.1.*. pip 24.0 will enforce this behaviour change. A possible replacement is to upgrade to a newer version of omegaconf or contact the author to suggest that they release a version with a conforming dependency specifiers. Discussion can be found at https://github.com/pypa/pip/issues/12063\u001b[0m\u001b[33m\n",
      "\u001b[0mInstalling collected packages: category_encoders\n",
      "Successfully installed category_encoders-2.6.3\n",
      "\n",
      "\u001b[1m[\u001b[0m\u001b[34;49mnotice\u001b[0m\u001b[1;39;49m]\u001b[0m\u001b[39;49m A new release of pip is available: \u001b[0m\u001b[31;49m23.3.2\u001b[0m\u001b[39;49m -> \u001b[0m\u001b[32;49m24.0\u001b[0m\n",
      "\u001b[1m[\u001b[0m\u001b[34;49mnotice\u001b[0m\u001b[1;39;49m]\u001b[0m\u001b[39;49m To update, run: \u001b[0m\u001b[32;49mpip install --upgrade pip\u001b[0m\n",
      "Note: you may need to restart the kernel to use updated packages.\n"
     ]
    },
    {
     "data": {
      "text/html": [
       "<div>\n",
       "<style scoped>\n",
       "    .dataframe tbody tr th:only-of-type {\n",
       "        vertical-align: middle;\n",
       "    }\n",
       "\n",
       "    .dataframe tbody tr th {\n",
       "        vertical-align: top;\n",
       "    }\n",
       "\n",
       "    .dataframe thead th {\n",
       "        text-align: right;\n",
       "    }\n",
       "</style>\n",
       "<table border=\"1\" class=\"dataframe\">\n",
       "  <thead>\n",
       "    <tr style=\"text-align: right;\">\n",
       "      <th></th>\n",
       "      <th>Brand_0</th>\n",
       "      <th>Brand_1</th>\n",
       "    </tr>\n",
       "  </thead>\n",
       "  <tbody>\n",
       "    <tr>\n",
       "      <th>0</th>\n",
       "      <td>0</td>\n",
       "      <td>1</td>\n",
       "    </tr>\n",
       "    <tr>\n",
       "      <th>1</th>\n",
       "      <td>1</td>\n",
       "      <td>0</td>\n",
       "    </tr>\n",
       "    <tr>\n",
       "      <th>2</th>\n",
       "      <td>0</td>\n",
       "      <td>1</td>\n",
       "    </tr>\n",
       "    <tr>\n",
       "      <th>3</th>\n",
       "      <td>1</td>\n",
       "      <td>1</td>\n",
       "    </tr>\n",
       "    <tr>\n",
       "      <th>4</th>\n",
       "      <td>1</td>\n",
       "      <td>0</td>\n",
       "    </tr>\n",
       "  </tbody>\n",
       "</table>\n",
       "</div>"
      ],
      "text/plain": [
       "   Brand_0  Brand_1\n",
       "0        0        1\n",
       "1        1        0\n",
       "2        0        1\n",
       "3        1        1\n",
       "4        1        0"
      ]
     },
     "execution_count": 5,
     "metadata": {},
     "output_type": "execute_result"
    }
   ],
   "source": [
    "%pip install category_encoders\n",
    "import category_encoders as ce\n",
    "\n",
    "# Primjer podataka\n",
    "data = pd.DataFrame({\n",
    "    'Brand': ['Apple', 'Samsung', 'Apple', 'Huawei', 'Samsung']\n",
    "})\n",
    "\n",
    "# Inicijalizacija Binary Encoder-a\n",
    "binary_encoder = ce.BinaryEncoder(cols=['Brand'])\n",
    "encoded_data = binary_encoder.fit_transform(data['Brand'])\n",
    "\n",
    "# Prikaz transformiranih podataka\n",
    "encoded_data"
   ]
  },
  {
   "cell_type": "markdown",
   "metadata": {},
   "source": [
    "## Frequency Encoding\n",
    "\n",
    "Frequency Encoding zamjenjuje kategoričke vrijednosti s frekvencijom njihovog pojavljivanja u skupu podataka. Ova metoda može biti korisna kada su frekvencije kategoričkih vrijednosti informativne."
   ]
  },
  {
   "cell_type": "code",
   "execution_count": 6,
   "metadata": {},
   "outputs": [
    {
     "data": {
      "text/html": [
       "<div>\n",
       "<style scoped>\n",
       "    .dataframe tbody tr th:only-of-type {\n",
       "        vertical-align: middle;\n",
       "    }\n",
       "\n",
       "    .dataframe tbody tr th {\n",
       "        vertical-align: top;\n",
       "    }\n",
       "\n",
       "    .dataframe thead th {\n",
       "        text-align: right;\n",
       "    }\n",
       "</style>\n",
       "<table border=\"1\" class=\"dataframe\">\n",
       "  <thead>\n",
       "    <tr style=\"text-align: right;\">\n",
       "      <th></th>\n",
       "      <th>Brand</th>\n",
       "      <th>Brand_freq</th>\n",
       "    </tr>\n",
       "  </thead>\n",
       "  <tbody>\n",
       "    <tr>\n",
       "      <th>0</th>\n",
       "      <td>Apple</td>\n",
       "      <td>0.4</td>\n",
       "    </tr>\n",
       "    <tr>\n",
       "      <th>1</th>\n",
       "      <td>Samsung</td>\n",
       "      <td>0.4</td>\n",
       "    </tr>\n",
       "    <tr>\n",
       "      <th>2</th>\n",
       "      <td>Apple</td>\n",
       "      <td>0.4</td>\n",
       "    </tr>\n",
       "    <tr>\n",
       "      <th>3</th>\n",
       "      <td>Huawei</td>\n",
       "      <td>0.2</td>\n",
       "    </tr>\n",
       "    <tr>\n",
       "      <th>4</th>\n",
       "      <td>Samsung</td>\n",
       "      <td>0.4</td>\n",
       "    </tr>\n",
       "  </tbody>\n",
       "</table>\n",
       "</div>"
      ],
      "text/plain": [
       "     Brand  Brand_freq\n",
       "0    Apple         0.4\n",
       "1  Samsung         0.4\n",
       "2    Apple         0.4\n",
       "3   Huawei         0.2\n",
       "4  Samsung         0.4"
      ]
     },
     "execution_count": 6,
     "metadata": {},
     "output_type": "execute_result"
    }
   ],
   "source": [
    "# Računanje frekvencija\n",
    "frequency = data['Brand'].value_counts() / len(data)\n",
    "\n",
    "# Mapiranje frekvencija na kategoričke vrijednosti\n",
    "data['Brand_freq'] = data['Brand'].map(frequency)\n",
    "\n",
    "# Prikaz transformiranih podataka\n",
    "data"
   ]
  },
  {
   "cell_type": "markdown",
   "metadata": {},
   "source": [
    "# Kada koristiti koju metodu?\n",
    "## Label Encoding\n",
    "\n",
    "- Koristite kada kategorička varijabla ima prirodni, ordinalni redoslijed (npr. 'nisko', 'srednje', 'visoko').\n",
    "- Manje je zahtjevno po pitanju memorijskog prostora, posebno kada imate mnogo kategorija.\n",
    "\n",
    "## One-Hot Encoding\n",
    "\n",
    "- Najbolje za nominalne varijable bez intrinzičnog redoslijeda (npr. spol, država).\n",
    "- Rezultira većim brojem značajki, što može povećati dimenzionalnost podataka (poznato kao \"prokletstvo dimenzionalnosti\").\n",
    "\n",
    "## Binary Encoding\n",
    "\n",
    "- Koristan kada imate veći broj kategorija i želite izbjeći preveliku dimenzionalnost koju može izazvati One-Hot Encoding.\n",
    "- Dobar kompromis između informacijske vrijednosti i dimenzionalnosti.\n",
    "\n",
    "## Frequency Encoding\n",
    "\n",
    "- Može biti vrlo informativan kada postoji veza između frekvencije pojave i ciljne varijable.\n",
    "- Treba biti oprezan kada se koristi u modelima koji mogu neprimjereno naučiti o frekvenciji kao značajci, što može dovesti do overfittinga.\n",
    "\n",
    "# Zaključak\n",
    "\n",
    "Izbor između Label Encodinga i One-Hot Encodinga ovisi o specifičnoj prirodi kategoričkih podataka i algoritmu koji se koristi za analizu. Za modele koji pretpostavljaju numerički redoslijed među značajkama, Label Encoding može biti prikladniji. Za modele koji to ne pretpostavljaju, poput većine klasifikacijskih i regresijskih algoritama, One-Hot Encoding često daje bolje rezultate.\n",
    "\n",
    "Dodavanjem Binary i Frequency Encodinga, dobivate veći spektar alata za predprocesiranje vaših kategoričkih podataka. Izbor prave metode enkodiranja ovisi o prirodi vaših podataka i modelu koji koristite. Ove tehnike pružaju fleksibilnost u obradi podataka i mogu pomoći u izgradnji robustnijih modela strojnog učenja."
   ]
  },
  {
   "cell_type": "markdown",
   "metadata": {},
   "source": [
    "# Perceptron Neuronska Mreža\n",
    "\n",
    "## Što je Perceptron?\n",
    "\n",
    "Perceptron je najjednostavniji tip umjetne neuronske mreže, odnosno forma linearnog klasifikatora. U suštini, to je matematički model koji prima više ulaza (x1, x2, ..., xn) i vrši njihovo zbrajanje, svaki pomnožen s odgovarajućom težinom (w1, w2, ..., wn). Zbroj je zatim modificiran dodavanjem pristranosti (bias) i na kraju se primjenjuje aktivacijska funkcija (npr. step funkcija) kako bi se dobila binarna izlazna vrijednost (0 ili 1). Za više detalja o perceptronu, pogledajte ovaj edukativni video: \n",
    "\n",
    "[Zašto neuronska mreže može naučiti bilo što?](https://www.youtube.com/watch?v=0QczhVg5HaI)\n",
    "\n",
    "### Razlike između Perceptrona i Neuronskih Mreža\n",
    "\n",
    "Iako je perceptron najosnovniji oblik neuronske mreže, postoje bitne razlike između perceptrona i složenijih neuronskih mreža koje koriste više slojeva (multilayer perceptrons ili duboke neuronske mreže).\n",
    "1. Arhitektura\n",
    "\n",
    "    Perceptron: Sastoji se od samo jednog neurona sa jednim slojem težina i jednom aktivacijskom funkcijom, obično step funkcijom koja daje izlaz u obliku 0 ili 1.\n",
    "    Višeslojne Neuronske Mreže (Multilayer Perceptrons, MLP): Sadrže više slojeva neurona, gdje svaki sloj može sadržavati više neurona. Svaki neuron u jednom sloju može biti povezan sa svim neuronima u sljedećem sloju, što omogućava mreži da modelira složenije obrasce.\n",
    "\n",
    "2. Sposobnost učenja\n",
    "\n",
    "    Perceptron: Može modelirati samo linearne razgraničene probleme, i neće konvergirati ako skup podataka nije linearno separabilan.\n",
    "    Višeslojne Neuronske Mreže: Zahvaljujući svojoj arhitekturi, mogu učiti i predstavljati vrlo kompleksne ne-linearne odnose i obrasce u podacima, što ih čini prikladnima za širok raspon problema u praksi, od prepoznavanja govora do obrade slika.\n",
    "\n",
    "3. Aktivacijske funkcije\n",
    "\n",
    "    Perceptron: Tradicionalno koristi step funkciju koja ograničava njegovu primjenu na binarne klasifikacijske zadatke.\n",
    "    Višeslojne Neuronske Mreže: Koriste različite vrste aktivacijskih funkcija kao što su sigmoid, tanh, ili ReLU, što doprinosi njihovoj sposobnosti da se treniraju pomoću backpropagation algoritma i da efikasno rješavaju probleme regresije, klasifikacije, i više.\n",
    "\n",
    "4. Trening\n",
    "\n",
    "    Perceptron: Koristi pravilo učenja perceptrona koje je jednostavno i učinkovito za linearne probleme.\n",
    "    Višeslojne Neuronske Mreže: Koriste složenije algoritme za optimizaciju kao što su stohastički gradijentni spust (SGD), Adam, ili RMSprop, što im omogućuje efikasno učenje na velikim i kompleksnim skupovima podataka.\n",
    "\n",
    "## Zaključak\n",
    "\n",
    "Perceptron je koristan za razumijevanje osnovnih principa umjetnih neuronskih mreža i linearnog klasificiranja, ali njegova primjena u modernim problemima strojnog učenja ograničena je zbog njegove jednostavnosti i ograničenja. Složenije neuronske mreže omogućavaju rješavanje mnogo šireg spektra zadataka s većom preciznošću i fleksibilnošću."
   ]
  },
  {
   "cell_type": "markdown",
   "metadata": {},
   "source": [
    "## Primjer klasifikacije pomoću Perceptrona\n",
    "\n",
    "Za primjer, koristit ćemo skup podataka koji se sastoji od različitih boja automobila i njihovih veličina, gdje je cilj klasificirati ih u dvije klase na temelju njihove cijene.\n",
    "Priprema podataka\n",
    "\n",
    "Prvo ćemo pripremiti podatke kao što smo prethodno spomenuli, koristeći One-Hot Encoding i Label Encoding za 'Boja' i 'Veličina' automobila.\n",
    "\n"
   ]
  },
  {
   "cell_type": "code",
   "execution_count": 8,
   "metadata": {},
   "outputs": [
    {
     "name": "stderr",
     "output_type": "stream",
     "text": [
      "/Users/danielvasic/.pyenv/versions/3.10.13/lib/python3.10/site-packages/sklearn/preprocessing/_encoders.py:808: FutureWarning: `sparse` was renamed to `sparse_output` in version 1.2 and will be removed in 1.4. `sparse_output` is ignored unless you leave `sparse` to its default value.\n",
      "  warnings.warn(\n"
     ]
    },
    {
     "data": {
      "text/html": [
       "<div>\n",
       "<style scoped>\n",
       "    .dataframe tbody tr th:only-of-type {\n",
       "        vertical-align: middle;\n",
       "    }\n",
       "\n",
       "    .dataframe tbody tr th {\n",
       "        vertical-align: top;\n",
       "    }\n",
       "\n",
       "    .dataframe thead th {\n",
       "        text-align: right;\n",
       "    }\n",
       "</style>\n",
       "<table border=\"1\" class=\"dataframe\">\n",
       "  <thead>\n",
       "    <tr style=\"text-align: right;\">\n",
       "      <th></th>\n",
       "      <th>Boja</th>\n",
       "      <th>Veličina</th>\n",
       "      <th>Cijena</th>\n",
       "      <th>Veličina_encoded</th>\n",
       "      <th>Boja_Crvena</th>\n",
       "      <th>Boja_Plava</th>\n",
       "      <th>Boja_Zelena</th>\n",
       "      <th>Jeftin</th>\n",
       "    </tr>\n",
       "  </thead>\n",
       "  <tbody>\n",
       "    <tr>\n",
       "      <th>0</th>\n",
       "      <td>Crvena</td>\n",
       "      <td>S</td>\n",
       "      <td>100</td>\n",
       "      <td>2</td>\n",
       "      <td>1.0</td>\n",
       "      <td>0.0</td>\n",
       "      <td>0.0</td>\n",
       "      <td>1</td>\n",
       "    </tr>\n",
       "    <tr>\n",
       "      <th>1</th>\n",
       "      <td>Plava</td>\n",
       "      <td>M</td>\n",
       "      <td>150</td>\n",
       "      <td>1</td>\n",
       "      <td>0.0</td>\n",
       "      <td>1.0</td>\n",
       "      <td>0.0</td>\n",
       "      <td>0</td>\n",
       "    </tr>\n",
       "    <tr>\n",
       "      <th>2</th>\n",
       "      <td>Zelena</td>\n",
       "      <td>L</td>\n",
       "      <td>200</td>\n",
       "      <td>0</td>\n",
       "      <td>0.0</td>\n",
       "      <td>0.0</td>\n",
       "      <td>1.0</td>\n",
       "      <td>0</td>\n",
       "    </tr>\n",
       "    <tr>\n",
       "      <th>3</th>\n",
       "      <td>Plava</td>\n",
       "      <td>S</td>\n",
       "      <td>125</td>\n",
       "      <td>2</td>\n",
       "      <td>0.0</td>\n",
       "      <td>1.0</td>\n",
       "      <td>0.0</td>\n",
       "      <td>1</td>\n",
       "    </tr>\n",
       "    <tr>\n",
       "      <th>4</th>\n",
       "      <td>Crvena</td>\n",
       "      <td>M</td>\n",
       "      <td>160</td>\n",
       "      <td>1</td>\n",
       "      <td>1.0</td>\n",
       "      <td>0.0</td>\n",
       "      <td>0.0</td>\n",
       "      <td>0</td>\n",
       "    </tr>\n",
       "  </tbody>\n",
       "</table>\n",
       "</div>"
      ],
      "text/plain": [
       "     Boja Veličina  Cijena  Veličina_encoded  Boja_Crvena  Boja_Plava  \\\n",
       "0  Crvena        S     100                 2          1.0         0.0   \n",
       "1   Plava        M     150                 1          0.0         1.0   \n",
       "2  Zelena        L     200                 0          0.0         0.0   \n",
       "3   Plava        S     125                 2          0.0         1.0   \n",
       "4  Crvena        M     160                 1          1.0         0.0   \n",
       "\n",
       "   Boja_Zelena  Jeftin  \n",
       "0          0.0       1  \n",
       "1          0.0       0  \n",
       "2          1.0       0  \n",
       "3          0.0       1  \n",
       "4          0.0       0  "
      ]
     },
     "execution_count": 8,
     "metadata": {},
     "output_type": "execute_result"
    }
   ],
   "source": [
    "import pandas as pd\n",
    "from sklearn.preprocessing import LabelEncoder, OneHotEncoder\n",
    "from sklearn.linear_model import Perceptron\n",
    "from sklearn.model_selection import train_test_split\n",
    "from sklearn.metrics import accuracy_score\n",
    "\n",
    "# Inicijalizacija podataka\n",
    "data = pd.DataFrame({\n",
    "    'Boja': ['Crvena', 'Plava', 'Zelena', 'Plava', 'Crvena'],\n",
    "    'Veličina': ['S', 'M', 'L', 'S', 'M'],\n",
    "    'Cijena': [100, 150, 200, 125, 160]\n",
    "})\n",
    "\n",
    "# Label Encoding\n",
    "label_encoder = LabelEncoder()\n",
    "data['Veličina_encoded'] = label_encoder.fit_transform(data['Veličina'])\n",
    "\n",
    "# One-Hot Encoding\n",
    "onehot_encoder = OneHotEncoder(sparse=False)\n",
    "boja_encoded = onehot_encoder.fit_transform(data[['Boja']])\n",
    "boja_encoded_df = pd.DataFrame(boja_encoded, columns=onehot_encoder.get_feature_names_out())\n",
    "data = pd.concat([data, boja_encoded_df], axis=1)\n",
    "\n",
    "# Dodavanje ciljne varijable\n",
    "data['Jeftin'] = [1 if x < 150 else 0 for x in data['Cijena']]\n",
    "data"
   ]
  },
  {
   "cell_type": "markdown",
   "metadata": {},
   "source": [
    "## Treniranje Perceptrona\n",
    "\n",
    "Sada ćemo koristiti Perceptron za treniranje modela koristeći jednom One-Hot Encoding, a drugi put Label Encoding.\n",
    "### Koristeći One-Hot Encoding"
   ]
  },
  {
   "cell_type": "code",
   "execution_count": 10,
   "metadata": {},
   "outputs": [
    {
     "name": "stdout",
     "output_type": "stream",
     "text": [
      "Točnost korištenjem One-Hot Encodinga: 0.0\n"
     ]
    }
   ],
   "source": [
    "# Definiranje ulaznih i izlaznih podataka\n",
    "X_onehot = data[['Boja_Crvena', 'Boja_Plava', 'Boja_Zelena', 'Veličina_encoded']]\n",
    "y = data['Jeftin']\n",
    "\n",
    "# Podjela podataka\n",
    "X_train, X_test, y_train, y_test = train_test_split(X_onehot, y, test_size=0.2, random_state=42)\n",
    "\n",
    "# Kreiranje i treniranje perceptrona\n",
    "perceptron = Perceptron()\n",
    "perceptron.fit(X_train, y_train)\n",
    "\n",
    "# Predikcija i ocjena modela\n",
    "y_pred = perceptron.predict(X_test)\n",
    "print(\"Točnost korištenjem One-Hot Encodinga:\", accuracy_score(y_test, y_pred))"
   ]
  },
  {
   "cell_type": "markdown",
   "metadata": {},
   "source": [
    "### Koristeći Label Encoding"
   ]
  },
  {
   "cell_type": "code",
   "execution_count": 14,
   "metadata": {},
   "outputs": [
    {
     "name": "stdout",
     "output_type": "stream",
     "text": [
      "Točnost korištenjem Label Encodinga: 1.0\n"
     ]
    }
   ],
   "source": [
    "# Label Encoding za 'Boja' i 'Veličina'\n",
    "label_encoder = LabelEncoder()\n",
    "data['Veličina_encoded'] = label_encoder.fit_transform(data['Veličina'])\n",
    "data['Boja_encoded'] = label_encoder.fit_transform(data['Boja'])\n",
    "\n",
    "# Definiranje ulaznih podataka s Label Encoding\n",
    "X_label = data[['Boja_encoded', 'Veličina_encoded']]\n",
    "\n",
    "# Podjela podataka\n",
    "X_train, X_test, y_train, y_test = train_test_split(X_label, y, test_size=0.2, random_state=42)\n",
    "\n",
    "# Kreiranje i treniranje perceptrona\n",
    "perceptron.fit(X_train, y_train)\n",
    "\n",
    "# Predikcija i ocjena modela\n",
    "y_pred = perceptron.predict(X_test)\n",
    "print(\"Točnost korištenjem Label Encodinga:\", accuracy_score(y_test, y_pred))"
   ]
  },
  {
   "cell_type": "markdown",
   "metadata": {},
   "source": [
    "### Korištenjem Frequency Encoding"
   ]
  },
  {
   "cell_type": "code",
   "execution_count": 15,
   "metadata": {},
   "outputs": [
    {
     "name": "stdout",
     "output_type": "stream",
     "text": [
      "Točnost korištenjem Frequency Encodinga: 1.0\n"
     ]
    }
   ],
   "source": [
    "# Računanje frekvencija\n",
    "frequency = data['Boja'].value_counts() / len(data)\n",
    "\n",
    "# Mapiranje frekvencija na kategoričke vrijednosti\n",
    "data['Boja_freq'] = data['Boja'].map(frequency)\n",
    "\n",
    "# Priprema ulaznih i izlaznih podataka\n",
    "X_freq = data[['Boja_freq', 'Veličina_encoded']]\n",
    "y = data['Jeftin']\n",
    "\n",
    "# Podjela podataka\n",
    "X_train, X_test, y_train, y_test = train_test_split(X_freq, y, test_size=0.2, random_state=42)\n",
    "\n",
    "# Kreiranje i treniranje perceptrona\n",
    "perceptron = Perceptron()\n",
    "perceptron.fit(X_train, y_train)\n",
    "\n",
    "# Predikcija i ocjena modela\n",
    "y_pred = perceptron.predict(X_test)\n",
    "print(\"Točnost korištenjem Frequency Encodinga:\", accuracy_score(y_test, y_pred))"
   ]
  },
  {
   "cell_type": "markdown",
   "metadata": {},
   "source": [
    "### Binary Encoding\n",
    "\n",
    "Za primjenu Binary Encodinga, koristit ćemo category_encoders knjižnicu koja omogućava jednostavnu implementaciju različitih metoda enkodiranja."
   ]
  },
  {
   "cell_type": "code",
   "execution_count": 16,
   "metadata": {},
   "outputs": [
    {
     "name": "stdout",
     "output_type": "stream",
     "text": [
      "Točnost korištenjem Binary Encodinga: 0.0\n"
     ]
    }
   ],
   "source": [
    "import category_encoders as ce\n",
    "\n",
    "# Inicijalizacija Binary Encoder-a\n",
    "binary_encoder = ce.BinaryEncoder(cols=['Boja'])\n",
    "data_binary_encoded = binary_encoder.fit_transform(data['Boja'])\n",
    "\n",
    "# Dodavanje binarno enkodiranih podataka u originalni DataFrame\n",
    "data = pd.concat([data, data_binary_encoded], axis=1)\n",
    "\n",
    "# Priprema ulaznih i izlaznih podataka\n",
    "X_binary = data.drop(columns=['Boja', 'Veličina', 'Cijena', 'Jeftin', 'Boja_encoded', 'Boja_freq'])\n",
    "X_binary['Veličina_encoded'] = data['Veličina_encoded']  # Dodajemo već postojeći Label Encoded stupac\n",
    "y = data['Jeftin']\n",
    "\n",
    "# Podjela podataka\n",
    "X_train, X_test, y_train, y_test = train_test_split(X_binary, y, test_size=0.2, random_state=42)\n",
    "\n",
    "# Kreiranje i treniranje perceptrona\n",
    "perceptron = Perceptron()\n",
    "perceptron.fit(X_train, y_train)\n",
    "\n",
    "# Predikcija i ocjena modela\n",
    "y_pred = perceptron.predict(X_test)\n",
    "print(\"Točnost korištenjem Binary Encodinga:\", accuracy_score(y_test, y_pred))"
   ]
  },
  {
   "cell_type": "markdown",
   "metadata": {},
   "source": [
    "## Zaključak\n",
    "\n",
    "### Linearna separabilnost\n",
    "\n",
    "Perceptron je osnovan na pretpostavci da su podaci linearno separabilni. Ako koristite One-Hot Encoding, svaka kategorička varijabla se transformira u nekoliko binarnih varijabli, što može povećati dimenzionalnost ulaznog prostora i učiniti problem manje linearno separabilnim, pogotovo ako je broj podataka (uzoraka) relativno mali u odnosu na broj značajki (stupceva). U takvim situacijama, perceptron može teže naći hiper-ravninu koja efikasno razdvaja klase.\n",
    "\n",
    "### Redundancija podataka\n",
    "\n",
    "Kada se koristi One-Hot Encoding, svaki atribut koji originalno ima N kategorija pretvara se u N binarnih stupaca, što može dovesti do problema redundancije, osobito ako neka kategorija dominira. To može umanjiti sposobnost perceptrona da efikasno nauči jer perceptron može biti osjetljiv na neravnotežu u zastupljenosti kategorija.\n",
    "\n",
    "#### Učinkovitost učenja\n",
    "\n",
    "S obzirom na to da perceptron koristi gradijentni spust za optimizaciju svojih težina, povećanje broja ulaznih značajki kroz One-Hot Encoding može usporiti proces učenja i potencijalno dovesti do lošije konvergencije. U kontrastu, Label Encoding održava broj ulaznih značajki minimalnim, čime se perceptron može brže i učinkovitije prilagoditi podacima"
   ]
  }
 ],
 "metadata": {
  "kernelspec": {
   "display_name": "Python 3",
   "language": "python",
   "name": "python3"
  },
  "language_info": {
   "codemirror_mode": {
    "name": "ipython",
    "version": 3
   },
   "file_extension": ".py",
   "mimetype": "text/x-python",
   "name": "python",
   "nbconvert_exporter": "python",
   "pygments_lexer": "ipython3",
   "version": "3.10.13"
  }
 },
 "nbformat": 4,
 "nbformat_minor": 2
}
